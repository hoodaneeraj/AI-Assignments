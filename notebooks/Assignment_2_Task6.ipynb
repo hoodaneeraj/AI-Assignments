{
 "cells": [
  {
   "cell_type": "markdown",
   "id": "a4094a62",
   "metadata": {
    "id": "a4094a62"
   },
   "source": [
    "### Task 6 : Multi Task Learning"
   ]
  },
  {
   "cell_type": "code",
   "execution_count": null,
   "id": "dc824bec",
   "metadata": {
    "id": "dc824bec"
   },
   "outputs": [],
   "source": [
    "import numpy as np\n",
    "import matplotlib.pyplot as plt\n",
    "import tensorflow as tf\n",
    "from tensorflow import keras\n",
    "from tensorflow.keras.datasets import mnist\n",
    "from tensorflow.keras.models import Sequential\n",
    "from tensorflow.keras.layers import Dense\n",
    "from tensorflow.keras.optimizers import Adam\n",
    "from tensorflow.keras.utils import to_categorical\n",
    "from sklearn.decomposition import PCA\n",
    "from tensorflow.keras.layers import Conv2D, Flatten, Dense, MaxPooling2D\n",
    "from tensorflow.keras.optimizers import Adam\n",
    "from tensorflow.keras.datasets import  fashion_mnist\n",
    "\n"
   ]
  },
  {
   "cell_type": "code",
   "execution_count": null,
   "id": "e819756e",
   "metadata": {
    "id": "e819756e"
   },
   "outputs": [],
   "source": [
    "def load_data():\n",
    "    (train_X, train_y_1),(test_X, test_y_1) = fashion_mnist.load_data()\n",
    "    n_class_1 = 10\n",
    "\n",
    "\n",
    "    train_y_2 = list(0 if y in [5,7,9] else 1 if y in [3,6,8] else 2 for y in train_y_1)\n",
    "    test_y_2 = list(0 if y in [5,7,9] else 1 if y in [3,6,8] else 2 for y in test_y_1)\n",
    "    n_class_2 =3\n",
    "\n",
    "    print(f\"Original shape of train_X = {train_X.shape},Original shape of test_X = {test_X.shape}\")\n",
    "    train_X = np.expand_dims(train_X, axis=3)\n",
    "    test_X = np.expand_dims(test_X, axis=3)\n",
    "\n",
    "    train_y_1 = to_categorical(train_y_1, n_class_1)\n",
    "    test_y_1 = to_categorical(test_y_1, n_class_1)\n",
    "\n",
    "    train_y_2 = to_categorical(train_y_2, n_class_2)\n",
    "    test_y_2 = to_categorical(test_y_2, n_class_2)\n",
    "\n",
    "    return train_X, train_y_1, train_y_2, test_X, test_y_1, test_y_2"
   ]
  },
  {
   "cell_type": "code",
   "execution_count": null,
   "id": "7209da12",
   "metadata": {
    "colab": {
     "base_uri": "https://localhost:8080/"
    },
    "executionInfo": {
     "elapsed": 5161,
     "status": "ok",
     "timestamp": 1699123934260,
     "user": {
      "displayName": "Neeraj Hooda",
      "userId": "11467237270677356146"
     },
     "user_tz": 0
    },
    "id": "7209da12",
    "outputId": "1760897e-5c34-40ae-a20c-b68597636e03"
   },
   "outputs": [
    {
     "name": "stdout",
     "output_type": "stream",
     "text": [
      "Downloading data from https://storage.googleapis.com/tensorflow/tf-keras-datasets/train-labels-idx1-ubyte.gz\n",
      "29515/29515 [==============================] - 0s 1us/step\n",
      "Downloading data from https://storage.googleapis.com/tensorflow/tf-keras-datasets/train-images-idx3-ubyte.gz\n",
      "26421880/26421880 [==============================] - 2s 0us/step\n",
      "Downloading data from https://storage.googleapis.com/tensorflow/tf-keras-datasets/t10k-labels-idx1-ubyte.gz\n",
      "5148/5148 [==============================] - 0s 0us/step\n",
      "Downloading data from https://storage.googleapis.com/tensorflow/tf-keras-datasets/t10k-images-idx3-ubyte.gz\n",
      "4422102/4422102 [==============================] - 1s 0us/step\n",
      "Original shape of train_X = (60000, 28, 28),Original shape of test_X = (10000, 28, 28)\n"
     ]
    }
   ],
   "source": [
    "x_train, y_train_1, y_train_2, x_test, y_test_1, y_test_2 = load_data()"
   ]
  },
  {
   "cell_type": "code",
   "execution_count": null,
   "id": "78fd535b",
   "metadata": {
    "colab": {
     "base_uri": "https://localhost:8080/"
    },
    "executionInfo": {
     "elapsed": 429,
     "status": "ok",
     "timestamp": 1699123939927,
     "user": {
      "displayName": "Neeraj Hooda",
      "userId": "11467237270677356146"
     },
     "user_tz": 0
    },
    "id": "78fd535b",
    "outputId": "52ae98e4-b75a-4c47-e8d1-23b600dc7c1d"
   },
   "outputs": [
    {
     "name": "stdout",
     "output_type": "stream",
     "text": [
      "x_train = (60000, 28, 28, 1), y_train_1 = (60000, 10), y_train_2 = (60000, 3), x_test = (10000, 28, 28, 1), y_test_1 = (10000, 10), y_test_2 = (10000, 3)\n"
     ]
    }
   ],
   "source": [
    "print(f\"x_train = {x_train.shape}, y_train_1 = {y_train_1.shape}, y_train_2 = {y_train_2.shape}, x_test = {x_test.shape}, y_test_1 = {y_test_1.shape}, y_test_2 = {y_test_2.shape}\")"
   ]
  },
  {
   "cell_type": "markdown",
   "id": "ecd25342",
   "metadata": {
    "id": "ecd25342"
   },
   "source": [
    "### Task 6.1 : Construct 2 seperate CNNs"
   ]
  },
  {
   "cell_type": "code",
   "execution_count": null,
   "id": "50eac06a",
   "metadata": {
    "colab": {
     "base_uri": "https://localhost:8080/"
    },
    "executionInfo": {
     "elapsed": 509827,
     "status": "ok",
     "timestamp": 1699124461993,
     "user": {
      "displayName": "Neeraj Hooda",
      "userId": "11467237270677356146"
     },
     "user_tz": 0
    },
    "id": "50eac06a",
    "outputId": "17e6bb46-59bd-4681-b46a-72670b91108f"
   },
   "outputs": [
    {
     "name": "stdout",
     "output_type": "stream",
     "text": [
      "Epoch 1/5\n",
      "600/600 [==============================] - 52s 66ms/step - loss: 4.3097 - accuracy: 0.8089 - val_loss: 0.4210 - val_accuracy: 0.8498\n",
      "Epoch 2/5\n",
      "600/600 [==============================] - 42s 69ms/step - loss: 0.3495 - accuracy: 0.8712 - val_loss: 0.3694 - val_accuracy: 0.8697\n",
      "Epoch 3/5\n",
      "600/600 [==============================] - 40s 67ms/step - loss: 0.2938 - accuracy: 0.8907 - val_loss: 0.3229 - val_accuracy: 0.8852\n",
      "Epoch 4/5\n",
      "600/600 [==============================] - 40s 67ms/step - loss: 0.2614 - accuracy: 0.9026 - val_loss: 0.3120 - val_accuracy: 0.8874\n",
      "Epoch 5/5\n",
      "600/600 [==============================] - 40s 66ms/step - loss: 0.2250 - accuracy: 0.9148 - val_loss: 0.3093 - val_accuracy: 0.8890\n",
      "Training Accuracy: 93.30%\n",
      "Test Accuracy: 88.90%\n",
      "Epoch 1/5\n",
      "600/600 [==============================] - 44s 70ms/step - loss: 3.6077 - accuracy: 0.8773 - val_loss: 0.2331 - val_accuracy: 0.8961\n",
      "Epoch 2/5\n",
      "600/600 [==============================] - 41s 68ms/step - loss: 0.1906 - accuracy: 0.9178 - val_loss: 0.1968 - val_accuracy: 0.9144\n",
      "Epoch 3/5\n",
      "600/600 [==============================] - 40s 67ms/step - loss: 0.1629 - accuracy: 0.9291 - val_loss: 0.1746 - val_accuracy: 0.9252\n",
      "Epoch 4/5\n",
      "600/600 [==============================] - 41s 68ms/step - loss: 0.1386 - accuracy: 0.9393 - val_loss: 0.1823 - val_accuracy: 0.9249\n",
      "Epoch 5/5\n",
      "600/600 [==============================] - 40s 66ms/step - loss: 0.1273 - accuracy: 0.9462 - val_loss: 0.1667 - val_accuracy: 0.9287\n",
      "Training Accuracy: 95.64%\n",
      "Test Accuracy: 92.87%\n"
     ]
    }
   ],
   "source": [
    "#CNN_1\n",
    "\n",
    "cnn_model_1 = Sequential([\n",
    "    Conv2D(32, (3, 3), strides=(1, 1), activation='relu', input_shape=(28, 28, 1)),\n",
    "    MaxPooling2D(pool_size=(2,2),strides=(1,1)),\n",
    "    Conv2D(64, (3, 3), strides=(1, 1), activation='relu'),\n",
    "    MaxPooling2D(pool_size=(2,2),strides=(1,1)),\n",
    "    Conv2D(128, (3, 3), strides=(1, 1), activation='relu'),\n",
    "    Flatten(),\n",
    "    Dense(3136, activation='relu'),\n",
    "    Dense(1024, activation='relu'),\n",
    "    Dense(100, activation='relu'),\n",
    "    Dense(10, activation='softmax')\n",
    "])\n",
    "\n",
    "cnn_model_1.compile(optimizer=Adam(learning_rate=0.001),\n",
    "              loss='categorical_crossentropy',\n",
    "              metrics=['accuracy'])\n",
    "#CNN_2\n",
    "cnn_model_2 = Sequential([\n",
    "    Conv2D(32, (3, 3), strides=(1, 1), activation='relu', input_shape=(28, 28, 1)),\n",
    "    MaxPooling2D(pool_size=(2,2),strides=(1,1)),\n",
    "    Conv2D(64, (3, 3), strides=(1, 1), activation='relu'),\n",
    "    MaxPooling2D(pool_size=(2,2),strides=(1,1)),\n",
    "    Conv2D(128, (3, 3), strides=(1, 1), activation='relu'),\n",
    "    Flatten(),\n",
    "    Dense(3136, activation='relu'),\n",
    "    Dense(1024, activation='relu'),\n",
    "    Dense(100, activation='relu'),\n",
    "    Dense(3, activation='softmax')\n",
    "])\n",
    "\n",
    "cnn_model_2.compile(optimizer=Adam(learning_rate=0.001),\n",
    "              loss='categorical_crossentropy',\n",
    "              metrics=['accuracy'])\n",
    "\n",
    "\n",
    "#Train the CNN_1 model\n",
    "# Train the model\n",
    "cnn_model_1_hist = cnn_model_1.fit(x_train, y_train_1, batch_size=100, epochs=5, validation_data=(x_test, y_test_1))\n",
    "\n",
    "# Evaluate the model on training data\n",
    "train_loss, train_accuracy = cnn_model_1.evaluate(x_train, y_train_1, verbose=0)\n",
    "print(f\"Training Accuracy: {train_accuracy * 100:.2f}%\")\n",
    "\n",
    "# Evaluate the model on test data\n",
    "test_loss, test_accuracy = cnn_model_1.evaluate(x_test, y_test_1, verbose=0)\n",
    "print(f\"Test Accuracy: {test_accuracy * 100:.2f}%\")\n",
    "\n",
    "\n",
    "#Train CNN_2 model\n",
    "cnn_model_2_hist = cnn_model_2.fit(x_train, y_train_2, batch_size=100, epochs=5, validation_data=(x_test, y_test_2))\n",
    "\n",
    "# Evaluate the model on training data\n",
    "train_loss, train_accuracy = cnn_model_2.evaluate(x_train, y_train_2, verbose=0)\n",
    "print(f\"Training Accuracy: {train_accuracy * 100:.2f}%\")\n",
    "\n",
    "# Evaluate the model on test data\n",
    "test_loss, test_accuracy = cnn_model_2.evaluate(x_test, y_test_2, verbose=0)\n",
    "print(f\"Test Accuracy: {test_accuracy * 100:.2f}%\")"
   ]
  },
  {
   "cell_type": "markdown",
   "id": "9f008c31",
   "metadata": {
    "id": "9f008c31"
   },
   "source": [
    "### Task : 6.2"
   ]
  },
  {
   "cell_type": "code",
   "execution_count": null,
   "id": "43882204",
   "metadata": {
    "colab": {
     "base_uri": "https://localhost:8080/"
    },
    "executionInfo": {
     "elapsed": 405,
     "status": "ok",
     "timestamp": 1699124494868,
     "user": {
      "displayName": "Neeraj Hooda",
      "userId": "11467237270677356146"
     },
     "user_tz": 0
    },
    "id": "43882204",
    "outputId": "990598f6-2ac6-4f21-de2c-60e5fc22d230"
   },
   "outputs": [
    {
     "name": "stdout",
     "output_type": "stream",
     "text": [
      "Model: \"model\"\n",
      "__________________________________________________________________________________________________\n",
      " Layer (type)                Output Shape                 Param #   Connected to                  \n",
      "==================================================================================================\n",
      " input_1 (InputLayer)        [(None, 28, 28, 1)]          0         []                            \n",
      "                                                                                                  \n",
      " conv2d_6 (Conv2D)           (None, 28, 28, 32)           320       ['input_1[0][0]']             \n",
      "                                                                                                  \n",
      " max_pooling2d_4 (MaxPoolin  (None, 14, 14, 32)           0         ['conv2d_6[0][0]']            \n",
      " g2D)                                                                                             \n",
      "                                                                                                  \n",
      " conv2d_7 (Conv2D)           (None, 14, 14, 64)           18496     ['max_pooling2d_4[0][0]']     \n",
      "                                                                                                  \n",
      " max_pooling2d_5 (MaxPoolin  (None, 13, 13, 64)           0         ['conv2d_7[0][0]']            \n",
      " g2D)                                                                                             \n",
      "                                                                                                  \n",
      " conv2d_8 (Conv2D)           (None, 13, 13, 128)          73856     ['max_pooling2d_5[0][0]']     \n",
      "                                                                                                  \n",
      " flatten_2 (Flatten)         (None, 21632)                0         ['conv2d_8[0][0]']            \n",
      "                                                                                                  \n",
      " dense_8 (Dense)             (None, 3136)                 6784108   ['flatten_2[0][0]']           \n",
      "                                                          8                                       \n",
      "                                                                                                  \n",
      " dense_9 (Dense)             (None, 1024)                 3212288   ['dense_8[0][0]']             \n",
      "                                                                                                  \n",
      " dense_11 (Dense)            (None, 1024)                 3212288   ['dense_8[0][0]']             \n",
      "                                                                                                  \n",
      " dense_10 (Dense)            (None, 100)                  102500    ['dense_9[0][0]']             \n",
      "                                                                                                  \n",
      " dense_12 (Dense)            (None, 100)                  102500    ['dense_11[0][0]']            \n",
      "                                                                                                  \n",
      " task1 (Dense)               (None, 10)                   1010      ['dense_10[0][0]']            \n",
      "                                                                                                  \n",
      " task2 (Dense)               (None, 3)                    303       ['dense_12[0][0]']            \n",
      "                                                                                                  \n",
      "==================================================================================================\n",
      "Total params: 74564649 (284.44 MB)\n",
      "Trainable params: 74564649 (284.44 MB)\n",
      "Non-trainable params: 0 (0.00 Byte)\n",
      "__________________________________________________________________________________________________\n"
     ]
    }
   ],
   "source": [
    "import tensorflow as tf\n",
    "from tensorflow import keras\n",
    "from tensorflow.keras.layers import Input, Conv2D, MaxPooling2D, Flatten, Dense\n",
    "from tensorflow.keras.models import Model\n",
    "\n",
    "# Input layer for the image data\n",
    "input_layer = Input(shape=(28, 28, 1))  # Assuming input images are 28x28 grayscale\n",
    "\n",
    "# Create 3 Shared Convolutional with MaxPooling after 1 and 2 layer\n",
    "# conv1 : size=32 and kernel size = (3×3), stride=1\n",
    "# MaxPooling : kernel Size=(2,2), stride=2\n",
    "# conv2 : size=64 and kernel size = (3×3), stride=1\n",
    "# MaxPooling : kernel Size=(2,2), stride=2\n",
    "# conv3 : size=128 and kernel size = (3×3), stride=1\n",
    "\n",
    "conv_1 = Conv2D(32, (3, 3), strides=1,activation='relu', padding='same')(input_layer)\n",
    "pool_1 = MaxPooling2D(pool_size=(2, 2),strides=2)(conv_1)\n",
    "conv_2 = Conv2D(64, (3, 3), strides=1,activation='relu', padding='same')(pool_1)\n",
    "pool_2 = MaxPooling2D(pool_size=(2, 2),strides=1)(conv_2)\n",
    "conv_3 = Conv2D(128, (3, 3), strides=1,activation='relu', padding='same')(pool_2)\n",
    "\n",
    "# Flatten the output\n",
    "flatten = Flatten()(conv_3)\n",
    "\n",
    "# Shared Dense Layer\n",
    "shared_dense = Dense(3136, activation='relu')(flatten)\n",
    "\n",
    "# Task 1 Dense Layers\n",
    "task1_dense1 = Dense(1024, activation='relu')(shared_dense)\n",
    "task1_dense2 = Dense(100, activation='relu')(task1_dense1)\n",
    "task1_output = Dense(10, activation='softmax', name='task1')(task1_dense2)\n",
    "\n",
    "# Task 2 Dense Layers\n",
    "task2_dense1 = Dense(1024, activation='relu')(shared_dense)\n",
    "task2_dense2 = Dense(100, activation='relu')(task2_dense1)\n",
    "task2_output = Dense(3, activation='softmax', name='task2')(task2_dense2)\n",
    "\n",
    "# Define the model with multiple outputs\n",
    "mtl_model = Model(inputs=input_layer, outputs=[task1_output, task2_output])\n",
    "\n",
    "# Compile the model\n",
    "mtl_model.compile(optimizer='adam',\n",
    "              loss={'task1': 'categorical_crossentropy',\n",
    "                    'task2': 'categorical_crossentropy'},\n",
    "              metrics={'task1': 'accuracy', 'task2': 'accuracy'})\n",
    "\n",
    "# Summary of the model\n",
    "mtl_model.summary()\n"
   ]
  },
  {
   "cell_type": "code",
   "execution_count": null,
   "id": "583fa518",
   "metadata": {
    "colab": {
     "base_uri": "https://localhost:8080/",
     "height": 1000
    },
    "executionInfo": {
     "elapsed": 11,
     "status": "ok",
     "timestamp": 1699124508211,
     "user": {
      "displayName": "Neeraj Hooda",
      "userId": "11467237270677356146"
     },
     "user_tz": 0
    },
    "id": "583fa518",
    "outputId": "c1826971-68eb-4795-9f60-e54d458f26d6"
   },
   "outputs": [
    {
     "data": {
      "image/png": "[encoded data removed]",
      "text/plain": [
       "<IPython.core.display.Image object>"
      ]
     },
     "execution_count": 7,
     "metadata": {},
     "output_type": "execute_result"
    }
   ],
   "source": [
    "tf.keras.utils.plot_model(mtl_model)"
   ]
  },
  {
   "cell_type": "code",
   "execution_count": null,
   "id": "169ec204",
   "metadata": {
    "colab": {
     "base_uri": "https://localhost:8080/"
    },
    "executionInfo": {
     "elapsed": 2213749,
     "status": "ok",
     "timestamp": 1699126940074,
     "user": {
      "displayName": "Neeraj Hooda",
      "userId": "11467237270677356146"
     },
     "user_tz": 0
    },
    "id": "169ec204",
    "outputId": "9aacf51d-8d0c-459f-d911-f563c3bf1a82"
   },
   "outputs": [
    {
     "name": "stdout",
     "output_type": "stream",
     "text": [
      "Lambda | Task 1 Accuracy | Task 2 Accuracy\n",
      "0.00   | 6.48%           | 94.45%\n",
      "0.25   | 90.25%           | 94.20%\n",
      "0.50   | 89.77%           | 94.03%\n",
      "0.75   | 90.31%           | 94.41%\n",
      "1.00   | 90.21%           | 93.89%\n"
     ]
    }
   ],
   "source": [
    "# Train the MTL model for different values of lambda (λ)\n",
    "lambda_values = [0.0, 0.25, 0.5, 0.75, 1.0]\n",
    "\n",
    "results = []\n",
    "\n",
    "for lambda_value in lambda_values:\n",
    "    # Compile the model with updated loss weights based on lambda\n",
    "    mtl_model.compile(optimizer='adam',\n",
    "                  loss={'task1': 'categorical_crossentropy', 'task2': 'categorical_crossentropy'},\n",
    "                  loss_weights={'task1': lambda_value, 'task2': 1.0 - lambda_value},\n",
    "                  metrics={'task1': 'accuracy', 'task2': 'accuracy'})\n",
    "\n",
    "    # Train the model\n",
    "    history = mtl_model.fit(x_train, {'task1': y_train_1, 'task2': y_train_2},\n",
    "                        validation_data=(x_test, {'task1': y_test_1, 'task2': y_test_2}),\n",
    "                        epochs=10, batch_size=32, verbose=0)\n",
    "\n",
    "    # Evaluate the model on the test data\n",
    "    test_scores = mtl_model.evaluate(x_test, {'task1': y_test_1, 'task2': y_test_2}, verbose=0)\n",
    "    test_accuracy_task1 = test_scores[3]  # Accuracy of Task 1\n",
    "    test_accuracy_task2 = test_scores[4]  # Accuracy of Task 2\n",
    "\n",
    "    results.append((lambda_value, test_accuracy_task1, test_accuracy_task2))\n",
    "\n",
    "# Print the results in a table\n",
    "print(\"Lambda | Task 1 Accuracy | Task 2 Accuracy\")\n",
    "for result in results:\n",
    "    print(f\"{result[0]:.2f}   | {result[1]*100:.2f}%           | {result[2]*100:.2f}%\")\n"
   ]
  }
 ],
 "metadata": {
  "colab": {
   "provenance": []
  },
  "kernelspec": {
   "display_name": "Python 3 (ipykernel)",
   "language": "python",
   "name": "python3"
  },
  "language_info": {
   "codemirror_mode": {
    "name": "ipython",
    "version": 3
   },
   "file_extension": ".py",
   "mimetype": "text/x-python",
   "name": "python",
   "nbconvert_exporter": "python",
   "pygments_lexer": "ipython3",
   "version": "3.11.4"
  }
 },
 "nbformat": 4,
 "nbformat_minor": 5
}
