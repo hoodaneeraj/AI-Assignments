{
 "cells": [
  {
   "cell_type": "code",
   "execution_count": 1,
   "metadata": {},
   "outputs": [],
   "source": [
    "import numpy as np\n",
    "import random"
   ]
  },
  {
   "cell_type": "markdown",
   "metadata": {},
   "source": [
    "### Task 1 : Solve a 8-Queens problem "
   ]
  },
  {
   "cell_type": "markdown",
   "metadata": {},
   "source": [
    "#### Function to create a Random Chromosome (Solution)"
   ]
  },
  {
   "cell_type": "code",
   "execution_count": 2,
   "metadata": {},
   "outputs": [],
   "source": [
    "#The function creates a random individual/chromosome representing a possible solution\n",
    "def create_chromosome(N):\n",
    "    return random.sample(range(N),N)"
   ]
  },
  {
   "cell_type": "markdown",
   "metadata": {},
   "source": [
    "#### Function to calculate the Fitness score of a chromosome"
   ]
  },
  {
   "cell_type": "code",
   "execution_count": 3,
   "metadata": {},
   "outputs": [],
   "source": [
    "#This function calculates the fitness of an individual/chromosome\n",
    "#The functions calclutes the number of non-clashes between the queens\n",
    "#higher the fitness score better the fitness of the chromosome.\n",
    "#The highest fitness score for an 8-Queen solution  is 28 (when the chromosome has 0 clashes) and \n",
    "#For n queens max fitness score will be (n-1)/2\n",
    "def calculate_fitness(chromosome):\n",
    "    # Calculate the fitness of a chromosome\n",
    "    clashes = 0\n",
    "    q_count = len(chromosome)\n",
    "    max_score = q_count*(q_count-1)/2\n",
    "    #print(\"max_count = {}\".format(max_score) )\n",
    "    for i in range(q_count):\n",
    "        for j in range(i + 1, q_count):\n",
    "            if chromosome[i] == chromosome[j] or abs(chromosome[i] - chromosome[j]) == j - i:\n",
    "                clashes += 1\n",
    "    return max_score - clashes"
   ]
  },
  {
   "cell_type": "markdown",
   "metadata": {},
   "source": [
    "#### Function to select Parents for offsprings"
   ]
  },
  {
   "cell_type": "code",
   "execution_count": 4,
   "metadata": {},
   "outputs": [],
   "source": [
    "#This function selects the parents for the new offsprings from the population\n",
    "#Parents are selected based on their fitness score,those with higher fitness score have higher probability of being selected\n",
    "#1. Find the Total fitness score of all the chromosomes in population\n",
    "#2. Calculate the probablity of each individual chromosome, as a percentage of the total fitness score\n",
    "#3. Randomly pick two chromosomes as parents (weighted by their probability)\n",
    "def select_parents(population):\n",
    "    total_population_fitness = sum(calculate_fitness(chromosome) for chromosome in population)\n",
    "    probabilities = [calculate_fitness(chromosome) / total_population_fitness for chromosome in population]\n",
    "    return random.choices(population, probabilities, k=2)\n",
    "    "
   ]
  },
  {
   "cell_type": "markdown",
   "metadata": {},
   "source": [
    "#### Single point crossover function"
   ]
  },
  {
   "cell_type": "code",
   "execution_count": 5,
   "metadata": {},
   "outputs": [],
   "source": [
    "#This function crosses over or combines the two parents to create an offspring\n",
    "#This is a simple implementation of cross over (called single point converter), \n",
    "#where a single crossover point is chosen and genes are exchanged between parents beyond the crossover point\n",
    "def single_point_crossover(parent1, parent2):\n",
    "    if(len(parent1)!=len(parent2)):\n",
    "        print(\"Parents not of same length\")\n",
    "        exit\n",
    "    crossover_point = random.randint(1, len(parent1) - 1)\n",
    "    offspring1 = parent1[:crossover_point] + parent2[crossover_point:]\n",
    "    offspring2 = parent2[:crossover_point] + parent1[crossover_point:]\n",
    "    return offspring1, offspring2"
   ]
  },
  {
   "cell_type": "markdown",
   "metadata": {},
   "source": [
    "#### Function to mutate chromosome"
   ]
  },
  {
   "cell_type": "code",
   "execution_count": 6,
   "metadata": {},
   "outputs": [],
   "source": [
    "#This function mutates the chromosome, if the mutation_rate is greater than a random value,\n",
    "#The chromosome is mutated by switching randomly selected genes,   \n",
    "def mutate_chromosome(chromosome,mutation_rate):\n",
    "    if random.random() < mutation_rate:\n",
    "        index1, index2 = random.sample(range(len(chromosome)), 2)\n",
    "        chromosome[index1], chromosome[index2] = chromosome[index2], chromosome[index1]\n",
    "    return chromosome"
   ]
  },
  {
   "cell_type": "markdown",
   "metadata": {},
   "source": [
    "### Genetic Algorithm "
   ]
  },
  {
   "cell_type": "code",
   "execution_count": 7,
   "metadata": {},
   "outputs": [],
   "source": [
    "#This function implements the Genetic Algorithm for N-Queens, \n",
    "#although it can be used for higher or lower number of Queens too, \n",
    "#currently it is being used for 8 or lower Queens\n",
    "def genetic_algorithm(N,POP_SIZE,MAX_GENERATIONS,MUTATION_RATE):\n",
    "    population = [create_chromosome(N) for _ in range(POP_SIZE)]\n",
    "    generation = 0\n",
    "\n",
    "    while generation < MAX_GENERATIONS:\n",
    "        new_population = []\n",
    "\n",
    "        while len(new_population) < POP_SIZE:\n",
    "            parent1, parent2 = select_parents(population)\n",
    "            child1, child2 = single_point_crossover(parent1, parent2)\n",
    "            child1 = mutate_chromosome(child1,MUTATION_RATE)\n",
    "            child2 = mutate_chromosome(child2,MUTATION_RATE)\n",
    "            new_population.extend([child1, child2])\n",
    "\n",
    "        population = new_population\n",
    "        generation += 1\n",
    "\n",
    "        # Check for a solution, for  8 Queens the solution will have a fitness score of 28 (no clashes) \n",
    "        for chromosome in population:\n",
    "            if calculate_fitness(chromosome) == N * (N - 1) / 2:\n",
    "                return chromosome\n",
    "\n",
    "    # No solution found\n",
    "    return None\n",
    "\n"
   ]
  },
  {
   "cell_type": "markdown",
   "metadata": {},
   "source": [
    "### Run the Genetic Algorithm for 8-Queens"
   ]
  },
  {
   "cell_type": "code",
   "execution_count": 23,
   "metadata": {},
   "outputs": [
    {
     "name": "stdout",
     "output_type": "stream",
     "text": [
      "Solution found: [0, 6, 3, 5, 7, 1, 4, 2] , iteration = 19\n",
      "Time Taken = 0:00:24.333782\n"
     ]
    }
   ],
   "source": [
    "#Run the Genetic algorithm for 8-Queens with \n",
    "#1.Random Population\n",
    "#2.Single point crossover and\n",
    "#3.Random mutation < 0.1\n",
    "#4.Population Size = 100\n",
    "#5.Running it upto 100 times \n",
    "from datetime import datetime\n",
    "now = datetime.now()\n",
    "flag = False\n",
    "for i in range (100):\n",
    "    solution = genetic_algorithm(8,100,10,0.1)\n",
    "    if solution:\n",
    "        print(\"Solution found: {} , iteration = {}\".format(solution,i))\n",
    "        later = datetime.now()\n",
    "        print(\"Time Taken = {}\".format(later-now))\n",
    "        flag = True\n",
    "        break\n",
    "    else:\n",
    "        continue\n",
    "\n",
    "if flag == False:\n",
    "    print(\"No Solution found\")"
   ]
  },
  {
   "cell_type": "markdown",
   "metadata": {},
   "source": [
    "### Task 2 : Solve N- Queen problem ,adding elitism to population creation\n",
    "###### For task 2 we are using elitism , where fittest chromosomes from the original population are retained in the new population and also free to be chosen as parents."
   ]
  },
  {
   "cell_type": "markdown",
   "metadata": {},
   "source": [
    "#### Function to generate elite population : "
   ]
  },
  {
   "cell_type": "code",
   "execution_count": 9,
   "metadata": {},
   "outputs": [],
   "source": [
    "#This function Generates population with elitism \n",
    "#Elitism is introduced by retaining top 10% chromosomes from population in the next population)\n",
    "def create_elite_population(population,MUTATION_RATE):\n",
    "    \n",
    "    #Sort the population on fitness  \n",
    "    sorted_population = sorted(population, key=lambda x: calculate_fitness(x),reverse=True)\n",
    "    #print(sorted_population)\n",
    "    #Add 10% of previous population to the new population\n",
    "    new_population = sorted_population[:int(len(sorted_population) * 0.1)]\n",
    "    \n",
    "    #Now create Rest of the new population by selecting, crossover and mutation\n",
    "    while len(new_population) < len(population):\n",
    "        parent1, parent2 = select_parents(population)\n",
    "        child1, child2 = single_point_crossover(parent1, parent2)\n",
    "        child1 = mutate_chromosome(child1,MUTATION_RATE)\n",
    "        child2 = mutate_chromosome(child2,MUTATION_RATE)\n",
    "        new_population.extend([child1,child2])\n",
    "    \n",
    "    return new_population"
   ]
  },
  {
   "cell_type": "code",
   "execution_count": 22,
   "metadata": {},
   "outputs": [],
   "source": [
    " def generate_algorithm_N(N,POP_SIZE,MAX_GENERATIONS,MUTATION_RATE):\n",
    "    population = [create_chromosome(N) for _ in range(POP_SIZE)]\n",
    "    \n",
    "    for generation in range(MAX_GENERATIONS):\n",
    "        #print(f\"Generation {generation + 1}\")\n",
    "        best_individual = sorted(population, key=lambda x: calculate_fitness(x),reverse=True)[0]\n",
    "        #print(f\"Best Individual's Fitness: {calculate_fitness(best_individual)}\")\n",
    "                \n",
    "        if calculate_fitness(best_individual) == N*(N-1)/2:\n",
    "            print(\"Solution found!\")\n",
    "            return best_individual\n",
    "            \n",
    "        population = create_elite_population(population,MUTATION_RATE)\n",
    "    \n",
    "    if calculate_fitness(best_individual) != N*(N-1)/2:\n",
    "        print(\"Solution not found.\")"
   ]
  },
  {
   "cell_type": "markdown",
   "metadata": {},
   "source": [
    "##### Run for N=4"
   ]
  },
  {
   "cell_type": "code",
   "execution_count": 11,
   "metadata": {},
   "outputs": [
    {
     "name": "stdout",
     "output_type": "stream",
     "text": [
      "Solution found!\n",
      "Solution found: [2, 0, 3, 1]\n",
      "Time Taken = 0:00:00.002998\n"
     ]
    }
   ],
   "source": [
    "from datetime import datetime\n",
    "now = datetime.now()\n",
    "solution = generate_algorithm_N(4,100,100,0.1)\n",
    "later = datetime.now()\n",
    "if solution:\n",
    "    print(\"Solution found: {}\".format(solution))\n",
    "    print(\"Time Taken = {}\".format(later-now))\n",
    "else:\n",
    "    print(\"No Solution found\")"
   ]
  },
  {
   "cell_type": "markdown",
   "metadata": {},
   "source": [
    "##### Run for N=8"
   ]
  },
  {
   "cell_type": "code",
   "execution_count": 12,
   "metadata": {},
   "outputs": [
    {
     "name": "stdout",
     "output_type": "stream",
     "text": [
      "Solution found!\n",
      "Solution found: [3, 0, 4, 7, 1, 6, 2, 5]\n",
      "Time Taken = 0:00:03.617190\n"
     ]
    }
   ],
   "source": [
    "now = datetime.now()\n",
    "solution = generate_algorithm_N(8,100,100,0.1)\n",
    "later = datetime.now()\n",
    "if solution:\n",
    "    print(\"Solution found: {}\".format(solution))\n",
    "    print(\"Time Taken = {}\".format(later-now))\n",
    "else:\n",
    "    print(\"No Solution found\")"
   ]
  },
  {
   "cell_type": "markdown",
   "metadata": {},
   "source": [
    "##### Run for N=12"
   ]
  },
  {
   "cell_type": "code",
   "execution_count": 17,
   "metadata": {},
   "outputs": [
    {
     "name": "stdout",
     "output_type": "stream",
     "text": [
      "Solution found!\n",
      "Solution found: [2, 7, 5, 11, 1, 10, 6, 3, 9, 4, 8, 0]\n",
      "Time Taken = 0:00:13.349487\n"
     ]
    }
   ],
   "source": [
    "now = datetime.now()\n",
    "solution = generate_algorithm_N(12,100,100,0.1)\n",
    "later = datetime.now()\n",
    "if solution:\n",
    "    print(\"Solution found: {}\".format(solution))\n",
    "    print(\"Time Taken = {}\".format(later-now))\n",
    "else:\n",
    "    print(\"No Solution found\")"
   ]
  },
  {
   "cell_type": "markdown",
   "metadata": {},
   "source": [
    "##### Run for N=16"
   ]
  },
  {
   "cell_type": "code",
   "execution_count": 20,
   "metadata": {},
   "outputs": [
    {
     "name": "stdout",
     "output_type": "stream",
     "text": [
      "Solution found!\n",
      "Solution found: [6, 14, 2, 7, 1, 13, 15, 9, 11, 5, 3, 12, 0, 4, 8, 10]\n",
      "Time Taken = 0:00:40.502837\n"
     ]
    }
   ],
   "source": [
    "now = datetime.now()\n",
    "solution = generate_algorithm_N(16,100,1000,0.1)\n",
    "later = datetime.now()\n",
    "if solution:\n",
    "    print(\"Solution found: {}\".format(solution))\n",
    "    print(\"Time Taken = {}\".format(later-now))\n",
    "else:\n",
    "    print(\"No Solution found\")"
   ]
  },
  {
   "cell_type": "markdown",
   "metadata": {},
   "source": [
    "##### Run for N=20"
   ]
  },
  {
   "cell_type": "code",
   "execution_count": 25,
   "metadata": {},
   "outputs": [
    {
     "name": "stdout",
     "output_type": "stream",
     "text": [
      "Solution found!\n",
      "Solution found: [11, 7, 0, 3, 6, 15, 10, 19, 5, 12, 18, 4, 17, 9, 13, 16, 2, 8, 1, 14]\n",
      "Time Taken = 0:01:27.082790\n"
     ]
    }
   ],
   "source": [
    "now = datetime.now()\n",
    "solution = generate_algorithm_N(20,100,1000,0.1)\n",
    "later = datetime.now()\n",
    "if solution:\n",
    "    print(\"Solution found: {}\".format(solution))\n",
    "    print(\"Time Taken = {}\".format(later-now))\n",
    "else:\n",
    "    print(\"No Solution found\")"
   ]
  },
  {
   "cell_type": "code",
   "execution_count": null,
   "metadata": {},
   "outputs": [],
   "source": []
  }
 ],
 "metadata": {
  "kernelspec": {
   "display_name": "Python 3",
   "language": "python",
   "name": "python3"
  },
  "language_info": {
   "codemirror_mode": {
    "name": "ipython",
    "version": 3
   },
   "file_extension": ".py",
   "mimetype": "text/x-python",
   "name": "python",
   "nbconvert_exporter": "python",
   "pygments_lexer": "ipython3",
   "version": "3.8.5"
  }
 },
 "nbformat": 4,
 "nbformat_minor": 4
}
